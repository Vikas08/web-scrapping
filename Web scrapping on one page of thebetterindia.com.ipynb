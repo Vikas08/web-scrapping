{
 "cells": [
  {
   "cell_type": "code",
   "execution_count": 1,
   "metadata": {
    "collapsed": true
   },
   "outputs": [],
   "source": [
    "#importing request library\n",
    "import requests"
   ]
  },
  {
   "cell_type": "code",
   "execution_count": 2,
   "metadata": {
    "collapsed": true
   },
   "outputs": [],
   "source": [
    "#importing beautiful soup\n",
    "from bs4 import BeautifulSoup"
   ]
  },
  {
   "cell_type": "code",
   "execution_count": 3,
   "metadata": {
    "collapsed": true
   },
   "outputs": [],
   "source": [
    "#requesting for web page\n",
    "page = requests.get(\"https://www.thebetterindia.com/117110/vijaya-lakshmi-pandit/\")"
   ]
  },
  {
   "cell_type": "code",
   "execution_count": 4,
   "metadata": {
    "collapsed": true
   },
   "outputs": [],
   "source": [
    "# making beautiful soup object out of the page\n",
    "soup = BeautifulSoup(page.content,'html.parser')"
   ]
  },
  {
   "cell_type": "code",
   "execution_count": 5,
   "metadata": {
    "collapsed": true
   },
   "outputs": [],
   "source": [
    "\n",
    "content = soup.find(id = 'content')"
   ]
  },
  {
   "cell_type": "code",
   "execution_count": 6,
   "metadata": {
    "collapsed": true
   },
   "outputs": [],
   "source": [
    "# getting tags as per html code of the page \n",
    "header = content.find(class_ = 'entry-header entry-header-01')"
   ]
  },
  {
   "cell_type": "code",
   "execution_count": 7,
   "metadata": {},
   "outputs": [
    {
     "data": {
      "text/plain": [
       "'How Vijaya Lakshmi Pandit Built a Political Career in British India’s Man’s World'"
      ]
     },
     "execution_count": 7,
     "metadata": {},
     "output_type": "execute_result"
    }
   ],
   "source": [
    "# extracting the headlines of the articles as per html code of page\n",
    "headline = list(soup.header)[3]\n",
    "headline = headline.get_text()\n",
    "headline"
   ]
  },
  {
   "cell_type": "code",
   "execution_count": 8,
   "metadata": {},
   "outputs": [
    {
     "data": {
      "text/plain": [
       "<p>Support our endeavor to become every Indian's source of daily inspiring positive news. <a href=\"https://www.thebetterindia.com/supporting-better-india/\" target=\"_blank\">Read FAQs.</a></p>"
      ]
     },
     "execution_count": 8,
     "metadata": {},
     "output_type": "execute_result"
    }
   ],
   "source": [
    "# extracting all the required paragraphs as per html code of page\n",
    "para_tag = content.find(class_ = 'g1-content-narrow g1-typography-xl entry-content')\n",
    "para = para_tag.find_all('p')\n",
    "para.pop(0)"
   ]
  },
  {
   "cell_type": "code",
   "execution_count": 9,
   "metadata": {
    "collapsed": true
   },
   "outputs": [],
   "source": [
    "# making a list of paragraphs and joining all the paragraphs to make it suitable for pandas dataframe\n",
    "text = []\n",
    "for p in para:\n",
    "    \n",
    "    text.append(p.get_text())\n",
    "text = ''.join(map(str,text))"
   ]
  },
  {
   "cell_type": "code",
   "execution_count": 10,
   "metadata": {},
   "outputs": [
    {
     "data": {
      "text/plain": [
       "'At a time when a political career was non-existent for women, the late Vijaya Lakshmi Pandit was way ahead of her times.Born on 18 August 1900 to renowned barrister Motilal Nehru and Swaruprani Thussu, from a Kashmiri Pandit family, she was the sister of former Prime Minister Jawaharlal Nehru, the aunt of the first woman Prime Minister of India, Indira Gandhi and the grand-aunt of former Prime Minister Rajiv Gandhi.Vijaya was one of the three children of Motilal Nehru and was born of his second wife Swaruprani Thussu after his first wife died in childbirth. While Jawaharlal Nehru was eleven years older to her, her younger sister Krishna Hutheesing, a noted writer, was seven years younger to her.The world of politics intrigued Vijaya from a tender age. The first ever political gathering she attended was at 16, when her cousin, Rameshwari Nehru arranged one to protest the inhumane treatment of Indian labourers in South Africa.But it wasn’t until 30 years later that Vijaya began her official political career. Her first stint was becoming a part of the All Indian Women’s Conference (AIWC). She moved on to become its leader from 1941 – 1943.At the provincial elections of 1937, Vijaya was elected as the Local Self-Governments and Health Minister of the United Provinces. This marked another milestone in her political career as the first woman to be elected to a cabinet position during the British Raj.She resigned just two years later as a move of solidarity with other Indian ministers who resigned after the Britishers deployed Indian troops for the Second World War without consulting the ruling government.Read more:\\xa0Cadet 001: The Story of the First Woman Cadet to Join the Indian Army, Priya JhinganHer husband, Ranjit Sitaram Pandit, a Maharashtrian barrister from Kathiawad and classical scholar, was arrested for his participation in India’s struggle for independence and died in Lucknow prison in 1944. Vijaya was shattered and left to fend for her three daughters Chandralekha Mehta, Nayantara Sehgal and Rita Dar.She was also left with no money, as women did not have inheritance rights back in the day.But her financial crisis did not deter her from abandoning her political career. She toured the United States of America spreading her strong ideas against colonialism and imperialism in once-rich countries like India, now at the mercy of foreign invaders.After returning to India in 1946, she was re-elected as minister of Local Self-Government and Health in the United Provinces and also became one of the 15 women out of 299 members to be elected to the Constituent Assembly.According to feminisminindia.com, these women from diverse professions like lawyers, freedom fighters and politicians, spoke on topics like minority rights, reservation, women’s reservation, religious education and schooling.In post-independence India, Vijaya became India’s ambassador to the Soviet Union from 1947 to 1949, the United States and Mexico from 1949 to 1951, Ireland from 1955 to 1961, and Spain from 1958 to 1961. She also served as the Indian High Commissioner to the United Kingdom.She broke all gender barriers to become the first woman President of the United Nations General Assembly in 1953.She was also the Governor of Maharashtra from 1962 to 1964 and got elected to the Lok Sabha, from Phulpur, from 1964 to 1968.When Prime Minister Indira Gandhi declared the emergency, Vijaya strongly criticised it, despite the former being her niece.You may also like:\\xa0How Homemaker Premlata Agrawal Became the Oldest Indian Woman to Scale Mount Everest!After retiring from politics due to strained relations within the family, Vijaya shifted base to Dehradun.She did attempt to campaign against Indira in 1977 post retirement but suffered defeat when Neelam Reddy was selected to run and won the election unopposed,She was appointed the Indian representative to the UN Human Rights Commission in 1979.The brave woman, who established herself in a man’s world, died on 1st December 1990.But throughout her life, she struggled to change mindsets – despite the resistance. There were times when members of Parliament would bring her needles and thread, to mock her and claim that politics was no place for a woman.But she stood her ground and continued to rise like a phoenix amid those who tried to pull her down.Vijaya Lakshmi Pandit despite having left to another world, continues to live on, inspiring women who aim make a mark in the world of politics.'"
      ]
     },
     "execution_count": 10,
     "metadata": {},
     "output_type": "execute_result"
    }
   ],
   "source": [
    "# printing the final output\n",
    "text"
   ]
  },
  {
   "cell_type": "code",
   "execution_count": null,
   "metadata": {
    "collapsed": true
   },
   "outputs": [],
   "source": []
  }
 ],
 "metadata": {
  "kernelspec": {
   "display_name": "Python 3",
   "language": "python",
   "name": "python3"
  },
  "language_info": {
   "codemirror_mode": {
    "name": "ipython",
    "version": 3
   },
   "file_extension": ".py",
   "mimetype": "text/x-python",
   "name": "python",
   "nbconvert_exporter": "python",
   "pygments_lexer": "ipython3",
   "version": "3.6.1"
  }
 },
 "nbformat": 4,
 "nbformat_minor": 2
}
